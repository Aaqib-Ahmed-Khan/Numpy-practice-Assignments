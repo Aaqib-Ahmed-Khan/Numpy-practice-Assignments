{
 "cells": [
  {
   "cell_type": "markdown",
   "id": "ba5f6414",
   "metadata": {},
   "source": [
    "print(\"heello\")"
   ]
  },
  {
   "cell_type": "code",
   "execution_count": 3,
   "id": "7f57c969",
   "metadata": {},
   "outputs": [
    {
     "name": "stdout",
     "output_type": "stream",
     "text": [
      "hello\n"
     ]
    }
   ],
   "source": [
    "print(\"hello\")"
   ]
  },
  {
   "cell_type": "code",
   "execution_count": null,
   "id": "debdb8c1",
   "metadata": {},
   "outputs": [
    {
     "name": "stdout",
     "output_type": "stream",
     "text": [
      "hello\n"
     ]
    }
   ],
   "source": [
    "print(\"hello\")\n"
   ]
  },
  {
   "cell_type": "code",
   "execution_count": 4,
   "id": "e3484990",
   "metadata": {},
   "outputs": [
    {
     "name": "stdout",
     "output_type": "stream",
     "text": [
      "hello aaqib\n"
     ]
    }
   ],
   "source": [
    "print(\"hello aaqib\")"
   ]
  },
  {
   "cell_type": "code",
   "execution_count": 5,
   "id": "e6b241bc",
   "metadata": {},
   "outputs": [
    {
     "name": "stdout",
     "output_type": "stream",
     "text": [
      "aaqib\n"
     ]
    }
   ],
   "source": [
    "print(\"aaqib\")"
   ]
  },
  {
   "cell_type": "markdown",
   "id": "68283470",
   "metadata": {},
   "source": []
  },
  {
   "cell_type": "code",
   "execution_count": 1,
   "id": "64375d9c",
   "metadata": {},
   "outputs": [
    {
     "name": "stdout",
     "output_type": "stream",
     "text": [
      "working\n"
     ]
    }
   ],
   "source": [
    "print(\"working\")"
   ]
  },
  {
   "cell_type": "code",
   "execution_count": null,
   "id": "3a648290",
   "metadata": {},
   "outputs": [
    {
     "name": "stdout",
     "output_type": "stream",
     "text": [
      "need to press ctrl s to save\n"
     ]
    }
   ],
   "source": [
    "print(\"need to press ctrl s to save\")"
   ]
  },
  {
   "cell_type": "code",
   "execution_count": null,
   "id": "f8b28581",
   "metadata": {},
   "outputs": [],
   "source": []
  }
 ],
 "metadata": {
  "kernelspec": {
   "display_name": "Python 3",
   "language": "python",
   "name": "python3"
  },
  "language_info": {
   "codemirror_mode": {
    "name": "ipython",
    "version": 3
   },
   "file_extension": ".py",
   "mimetype": "text/x-python",
   "name": "python",
   "nbconvert_exporter": "python",
   "pygments_lexer": "ipython3",
   "version": "3.10.12"
  }
 },
 "nbformat": 4,
 "nbformat_minor": 5
}
